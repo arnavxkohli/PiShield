{
  "cells": [
    {
      "cell_type": "markdown",
      "metadata": {
        "id": "m2H4im1uCpgj"
      },
      "source": [
        "# Faulty Steel Plates"
      ]
    },
    {
      "cell_type": "code",
      "execution_count": 1,
      "metadata": {},
      "outputs": [
        {
          "name": "stdout",
          "output_type": "stream",
          "text": [
            "Requirement already satisfied: tqdm in /Users/arnavkohli/Work/Uni Stuff/FYP/venv/lib/python3.13/site-packages (4.67.1)\n",
            "Requirement already satisfied: torch in /Users/arnavkohli/Work/Uni Stuff/FYP/venv/lib/python3.13/site-packages (2.6.0)\n",
            "Requirement already satisfied: scikit-learn in /Users/arnavkohli/Work/Uni Stuff/FYP/venv/lib/python3.13/site-packages (1.6.1)\n",
            "Requirement already satisfied: numpy in /Users/arnavkohli/Work/Uni Stuff/FYP/venv/lib/python3.13/site-packages (2.2.4)\n",
            "Requirement already satisfied: pandas in /Users/arnavkohli/Work/Uni Stuff/FYP/venv/lib/python3.13/site-packages (2.2.3)\n",
            "Requirement already satisfied: matplotlib in /Users/arnavkohli/Work/Uni Stuff/FYP/venv/lib/python3.13/site-packages (3.10.1)\n",
            "Requirement already satisfied: pytest in /Users/arnavkohli/Work/Uni Stuff/FYP/venv/lib/python3.13/site-packages (8.3.5)\n",
            "Requirement already satisfied: filelock in /Users/arnavkohli/Work/Uni Stuff/FYP/venv/lib/python3.13/site-packages (from torch) (3.18.0)\n",
            "Requirement already satisfied: typing-extensions>=4.10.0 in /Users/arnavkohli/Work/Uni Stuff/FYP/venv/lib/python3.13/site-packages (from torch) (4.13.1)\n",
            "Requirement already satisfied: networkx in /Users/arnavkohli/Work/Uni Stuff/FYP/venv/lib/python3.13/site-packages (from torch) (3.4.2)\n",
            "Requirement already satisfied: jinja2 in /Users/arnavkohli/Work/Uni Stuff/FYP/venv/lib/python3.13/site-packages (from torch) (3.1.6)\n",
            "Requirement already satisfied: fsspec in /Users/arnavkohli/Work/Uni Stuff/FYP/venv/lib/python3.13/site-packages (from torch) (2025.3.2)\n",
            "Requirement already satisfied: setuptools in /Users/arnavkohli/Work/Uni Stuff/FYP/venv/lib/python3.13/site-packages (from torch) (78.1.0)\n",
            "Requirement already satisfied: sympy==1.13.1 in /Users/arnavkohli/Work/Uni Stuff/FYP/venv/lib/python3.13/site-packages (from torch) (1.13.1)\n",
            "Requirement already satisfied: mpmath<1.4,>=1.1.0 in /Users/arnavkohli/Work/Uni Stuff/FYP/venv/lib/python3.13/site-packages (from sympy==1.13.1->torch) (1.3.0)\n",
            "Requirement already satisfied: scipy>=1.6.0 in /Users/arnavkohli/Work/Uni Stuff/FYP/venv/lib/python3.13/site-packages (from scikit-learn) (1.15.2)\n",
            "Requirement already satisfied: joblib>=1.2.0 in /Users/arnavkohli/Work/Uni Stuff/FYP/venv/lib/python3.13/site-packages (from scikit-learn) (1.4.2)\n",
            "Requirement already satisfied: threadpoolctl>=3.1.0 in /Users/arnavkohli/Work/Uni Stuff/FYP/venv/lib/python3.13/site-packages (from scikit-learn) (3.6.0)\n",
            "Requirement already satisfied: python-dateutil>=2.8.2 in /Users/arnavkohli/Work/Uni Stuff/FYP/venv/lib/python3.13/site-packages (from pandas) (2.9.0.post0)\n",
            "Requirement already satisfied: pytz>=2020.1 in /Users/arnavkohli/Work/Uni Stuff/FYP/venv/lib/python3.13/site-packages (from pandas) (2025.2)\n",
            "Requirement already satisfied: tzdata>=2022.7 in /Users/arnavkohli/Work/Uni Stuff/FYP/venv/lib/python3.13/site-packages (from pandas) (2025.2)\n",
            "Requirement already satisfied: contourpy>=1.0.1 in /Users/arnavkohli/Work/Uni Stuff/FYP/venv/lib/python3.13/site-packages (from matplotlib) (1.3.1)\n",
            "Requirement already satisfied: cycler>=0.10 in /Users/arnavkohli/Work/Uni Stuff/FYP/venv/lib/python3.13/site-packages (from matplotlib) (0.12.1)\n",
            "Requirement already satisfied: fonttools>=4.22.0 in /Users/arnavkohli/Work/Uni Stuff/FYP/venv/lib/python3.13/site-packages (from matplotlib) (4.57.0)\n",
            "Requirement already satisfied: kiwisolver>=1.3.1 in /Users/arnavkohli/Work/Uni Stuff/FYP/venv/lib/python3.13/site-packages (from matplotlib) (1.4.8)\n",
            "Requirement already satisfied: packaging>=20.0 in /Users/arnavkohli/Work/Uni Stuff/FYP/venv/lib/python3.13/site-packages (from matplotlib) (24.2)\n",
            "Requirement already satisfied: pillow>=8 in /Users/arnavkohli/Work/Uni Stuff/FYP/venv/lib/python3.13/site-packages (from matplotlib) (11.1.0)\n",
            "Requirement already satisfied: pyparsing>=2.3.1 in /Users/arnavkohli/Work/Uni Stuff/FYP/venv/lib/python3.13/site-packages (from matplotlib) (3.2.3)\n",
            "Requirement already satisfied: iniconfig in /Users/arnavkohli/Work/Uni Stuff/FYP/venv/lib/python3.13/site-packages (from pytest) (2.1.0)\n",
            "Requirement already satisfied: pluggy<2,>=1.5 in /Users/arnavkohli/Work/Uni Stuff/FYP/venv/lib/python3.13/site-packages (from pytest) (1.5.0)\n",
            "Requirement already satisfied: six>=1.5 in /Users/arnavkohli/Work/Uni Stuff/FYP/venv/lib/python3.13/site-packages (from python-dateutil>=2.8.2->pandas) (1.17.0)\n",
            "Requirement already satisfied: MarkupSafe>=2.0 in /Users/arnavkohli/Work/Uni Stuff/FYP/venv/lib/python3.13/site-packages (from jinja2->torch) (3.0.2)\n",
            "\n",
            "\u001b[1m[\u001b[0m\u001b[34;49mnotice\u001b[0m\u001b[1;39;49m]\u001b[0m\u001b[39;49m A new release of pip is available: \u001b[0m\u001b[31;49m25.0\u001b[0m\u001b[39;49m -> \u001b[0m\u001b[32;49m25.1.1\u001b[0m\n",
            "\u001b[1m[\u001b[0m\u001b[34;49mnotice\u001b[0m\u001b[1;39;49m]\u001b[0m\u001b[39;49m To update, run: \u001b[0m\u001b[32;49mpip install --upgrade pip\u001b[0m\n",
            "Note: you may need to restart the kernel to use updated packages.\n",
            "Processing /Users/arnavkohli/Work/Uni Stuff/FYP/PiShield\n",
            "  Installing build dependencies ... \u001b[?25ldone\n",
            "\u001b[?25h  Getting requirements to build wheel ... \u001b[?25ldone\n",
            "\u001b[?25h  Preparing metadata (pyproject.toml) ... \u001b[?25ldone\n",
            "\u001b[?25hRequirement already satisfied: numpy in /Users/arnavkohli/Work/Uni Stuff/FYP/venv/lib/python3.13/site-packages (from pishield==1.0.0) (2.2.4)\n",
            "Requirement already satisfied: torch in /Users/arnavkohli/Work/Uni Stuff/FYP/venv/lib/python3.13/site-packages (from pishield==1.0.0) (2.6.0)\n",
            "Requirement already satisfied: filelock in /Users/arnavkohli/Work/Uni Stuff/FYP/venv/lib/python3.13/site-packages (from torch->pishield==1.0.0) (3.18.0)\n",
            "Requirement already satisfied: typing-extensions>=4.10.0 in /Users/arnavkohli/Work/Uni Stuff/FYP/venv/lib/python3.13/site-packages (from torch->pishield==1.0.0) (4.13.1)\n",
            "Requirement already satisfied: networkx in /Users/arnavkohli/Work/Uni Stuff/FYP/venv/lib/python3.13/site-packages (from torch->pishield==1.0.0) (3.4.2)\n",
            "Requirement already satisfied: jinja2 in /Users/arnavkohli/Work/Uni Stuff/FYP/venv/lib/python3.13/site-packages (from torch->pishield==1.0.0) (3.1.6)\n",
            "Requirement already satisfied: fsspec in /Users/arnavkohli/Work/Uni Stuff/FYP/venv/lib/python3.13/site-packages (from torch->pishield==1.0.0) (2025.3.2)\n",
            "Requirement already satisfied: setuptools in /Users/arnavkohli/Work/Uni Stuff/FYP/venv/lib/python3.13/site-packages (from torch->pishield==1.0.0) (78.1.0)\n",
            "Requirement already satisfied: sympy==1.13.1 in /Users/arnavkohli/Work/Uni Stuff/FYP/venv/lib/python3.13/site-packages (from torch->pishield==1.0.0) (1.13.1)\n",
            "Requirement already satisfied: mpmath<1.4,>=1.1.0 in /Users/arnavkohli/Work/Uni Stuff/FYP/venv/lib/python3.13/site-packages (from sympy==1.13.1->torch->pishield==1.0.0) (1.3.0)\n",
            "Requirement already satisfied: MarkupSafe>=2.0 in /Users/arnavkohli/Work/Uni Stuff/FYP/venv/lib/python3.13/site-packages (from jinja2->torch->pishield==1.0.0) (3.0.2)\n",
            "Building wheels for collected packages: pishield\n",
            "  Building wheel for pishield (pyproject.toml) ... \u001b[?25ldone\n",
            "\u001b[?25h  Created wheel for pishield: filename=pishield-1.0.0-py3-none-any.whl size=46556 sha256=825d5665c54608876fd126afc091c45c21bcde7792c569bf14abb56e8400f242\n",
            "  Stored in directory: /private/var/folders/xs/_tk2cd552r7b4t8tnjrwjj800000gn/T/pip-ephem-wheel-cache-f3wjb7s6/wheels/c4/b7/f0/be8df562ae22530e49ca9acd400e4e886eef8cdb0803eb8d21\n",
            "Successfully built pishield\n",
            "Installing collected packages: pishield\n",
            "  Attempting uninstall: pishield\n",
            "    Found existing installation: pishield 1.0.0\n",
            "    Uninstalling pishield-1.0.0:\n",
            "      Successfully uninstalled pishield-1.0.0\n",
            "Successfully installed pishield-1.0.0\n",
            "\n",
            "\u001b[1m[\u001b[0m\u001b[34;49mnotice\u001b[0m\u001b[1;39;49m]\u001b[0m\u001b[39;49m A new release of pip is available: \u001b[0m\u001b[31;49m25.0\u001b[0m\u001b[39;49m -> \u001b[0m\u001b[32;49m25.1.1\u001b[0m\n",
            "\u001b[1m[\u001b[0m\u001b[34;49mnotice\u001b[0m\u001b[1;39;49m]\u001b[0m\u001b[39;49m To update, run: \u001b[0m\u001b[32;49mpip install --upgrade pip\u001b[0m\n",
            "Note: you may need to restart the kernel to use updated packages.\n"
          ]
        }
      ],
      "source": [
        "%pip install tqdm torch scikit-learn numpy pandas matplotlib pytest\n",
        "%pip install ../../PiShield\n",
        "\n",
        "%reload_ext autoreload\n",
        "%autoreload 2"
      ]
    },
    {
      "cell_type": "code",
      "execution_count": 2,
      "metadata": {
        "id": "38l_cqLdC_-Q"
      },
      "outputs": [],
      "source": [
        "import pandas as pd\n",
        "import torch\n",
        "import torch.nn as nn\n",
        "import torch.optim as optim\n",
        "from sklearn.model_selection import train_test_split\n",
        "from sklearn.preprocessing import StandardScaler\n",
        "from torch.utils.data import TensorDataset, DataLoader\n",
        "from sklearn.compose import ColumnTransformer\n",
        "from tqdm import tqdm\n",
        "import logging"
      ]
    },
    {
      "cell_type": "code",
      "execution_count": 3,
      "metadata": {},
      "outputs": [],
      "source": [
        "logging.basicConfig(level=logging.WARNING)"
      ]
    },
    {
      "cell_type": "code",
      "execution_count": 4,
      "metadata": {},
      "outputs": [
        {
          "name": "stdout",
          "output_type": "stream",
          "text": [
            "Using Device: mps\n"
          ]
        }
      ],
      "source": [
        "devices = [\"cuda\", \"mps\"]\n",
        "device = \"cpu\"\n",
        "\n",
        "for possible_device in devices:\n",
        "    if possible_device == \"cuda\" and torch.cuda.is_available():\n",
        "        device = \"cuda\"\n",
        "        break\n",
        "    elif possible_device == \"mps\" and torch.backends.mps.is_available():\n",
        "        device = \"mps\"\n",
        "        break\n",
        "\n",
        "device = torch.device(device)\n",
        "\n",
        "print(f\"Using Device: {device}\")"
      ]
    },
    {
      "cell_type": "code",
      "execution_count": 5,
      "metadata": {},
      "outputs": [],
      "source": [
        "# seed_value = 42\n",
        "\n",
        "# random.seed(seed_value)\n",
        "# np.random.seed(seed_value)\n",
        "# torch.manual_seed(seed_value)\n",
        "\n",
        "# if torch.cuda.is_available():\n",
        "#     torch.cuda.manual_seed_all(seed_value)\n",
        "#     torch.backends.cudnn.deterministic = True\n",
        "#     torch.backends.cudnn.benchmark = False"
      ]
    },
    {
      "cell_type": "code",
      "execution_count": 6,
      "metadata": {
        "colab": {
          "base_uri": "https://localhost:8080/",
          "height": 443
        },
        "id": "WKJ07cVcC9EV",
        "outputId": "2754aad9-c4c6-461c-e087-a1881b8a3e37"
      },
      "outputs": [
        {
          "data": {
            "text/html": [
              "<div>\n",
              "<style scoped>\n",
              "    .dataframe tbody tr th:only-of-type {\n",
              "        vertical-align: middle;\n",
              "    }\n",
              "\n",
              "    .dataframe tbody tr th {\n",
              "        vertical-align: top;\n",
              "    }\n",
              "\n",
              "    .dataframe thead th {\n",
              "        text-align: right;\n",
              "    }\n",
              "</style>\n",
              "<table border=\"1\" class=\"dataframe\">\n",
              "  <thead>\n",
              "    <tr style=\"text-align: right;\">\n",
              "      <th></th>\n",
              "      <th>X_Minimum</th>\n",
              "      <th>X_Maximum</th>\n",
              "      <th>Y_Minimum</th>\n",
              "      <th>Y_Maximum</th>\n",
              "      <th>Pixels_Areas</th>\n",
              "      <th>X_Perimeter</th>\n",
              "      <th>Y_Perimeter</th>\n",
              "      <th>Sum_of_Luminosity</th>\n",
              "      <th>Minimum_of_Luminosity</th>\n",
              "      <th>Maximum_of_Luminosity</th>\n",
              "      <th>...</th>\n",
              "      <th>Orientation_Index</th>\n",
              "      <th>Luminosity_Index</th>\n",
              "      <th>SigmoidOfAreas</th>\n",
              "      <th>Pastry</th>\n",
              "      <th>Z_Scratch</th>\n",
              "      <th>K_Scatch</th>\n",
              "      <th>Stains</th>\n",
              "      <th>Dirtiness</th>\n",
              "      <th>Bumps</th>\n",
              "      <th>Other_Faults</th>\n",
              "    </tr>\n",
              "  </thead>\n",
              "  <tbody>\n",
              "    <tr>\n",
              "      <th>0</th>\n",
              "      <td>42</td>\n",
              "      <td>50</td>\n",
              "      <td>270900</td>\n",
              "      <td>270944</td>\n",
              "      <td>267</td>\n",
              "      <td>17</td>\n",
              "      <td>44</td>\n",
              "      <td>24220</td>\n",
              "      <td>76</td>\n",
              "      <td>108</td>\n",
              "      <td>...</td>\n",
              "      <td>0.8182</td>\n",
              "      <td>-0.2913</td>\n",
              "      <td>0.5822</td>\n",
              "      <td>1</td>\n",
              "      <td>0</td>\n",
              "      <td>0</td>\n",
              "      <td>0</td>\n",
              "      <td>0</td>\n",
              "      <td>0</td>\n",
              "      <td>0</td>\n",
              "    </tr>\n",
              "    <tr>\n",
              "      <th>1</th>\n",
              "      <td>645</td>\n",
              "      <td>651</td>\n",
              "      <td>2538079</td>\n",
              "      <td>2538108</td>\n",
              "      <td>108</td>\n",
              "      <td>10</td>\n",
              "      <td>30</td>\n",
              "      <td>11397</td>\n",
              "      <td>84</td>\n",
              "      <td>123</td>\n",
              "      <td>...</td>\n",
              "      <td>0.7931</td>\n",
              "      <td>-0.1756</td>\n",
              "      <td>0.2984</td>\n",
              "      <td>1</td>\n",
              "      <td>0</td>\n",
              "      <td>0</td>\n",
              "      <td>0</td>\n",
              "      <td>0</td>\n",
              "      <td>0</td>\n",
              "      <td>0</td>\n",
              "    </tr>\n",
              "    <tr>\n",
              "      <th>2</th>\n",
              "      <td>829</td>\n",
              "      <td>835</td>\n",
              "      <td>1553913</td>\n",
              "      <td>1553931</td>\n",
              "      <td>71</td>\n",
              "      <td>8</td>\n",
              "      <td>19</td>\n",
              "      <td>7972</td>\n",
              "      <td>99</td>\n",
              "      <td>125</td>\n",
              "      <td>...</td>\n",
              "      <td>0.6667</td>\n",
              "      <td>-0.1228</td>\n",
              "      <td>0.2150</td>\n",
              "      <td>1</td>\n",
              "      <td>0</td>\n",
              "      <td>0</td>\n",
              "      <td>0</td>\n",
              "      <td>0</td>\n",
              "      <td>0</td>\n",
              "      <td>0</td>\n",
              "    </tr>\n",
              "    <tr>\n",
              "      <th>3</th>\n",
              "      <td>853</td>\n",
              "      <td>860</td>\n",
              "      <td>369370</td>\n",
              "      <td>369415</td>\n",
              "      <td>176</td>\n",
              "      <td>13</td>\n",
              "      <td>45</td>\n",
              "      <td>18996</td>\n",
              "      <td>99</td>\n",
              "      <td>126</td>\n",
              "      <td>...</td>\n",
              "      <td>0.8444</td>\n",
              "      <td>-0.1568</td>\n",
              "      <td>0.5212</td>\n",
              "      <td>1</td>\n",
              "      <td>0</td>\n",
              "      <td>0</td>\n",
              "      <td>0</td>\n",
              "      <td>0</td>\n",
              "      <td>0</td>\n",
              "      <td>0</td>\n",
              "    </tr>\n",
              "    <tr>\n",
              "      <th>4</th>\n",
              "      <td>1289</td>\n",
              "      <td>1306</td>\n",
              "      <td>498078</td>\n",
              "      <td>498335</td>\n",
              "      <td>2409</td>\n",
              "      <td>60</td>\n",
              "      <td>260</td>\n",
              "      <td>246930</td>\n",
              "      <td>37</td>\n",
              "      <td>126</td>\n",
              "      <td>...</td>\n",
              "      <td>0.9338</td>\n",
              "      <td>-0.1992</td>\n",
              "      <td>1.0000</td>\n",
              "      <td>1</td>\n",
              "      <td>0</td>\n",
              "      <td>0</td>\n",
              "      <td>0</td>\n",
              "      <td>0</td>\n",
              "      <td>0</td>\n",
              "      <td>0</td>\n",
              "    </tr>\n",
              "    <tr>\n",
              "      <th>...</th>\n",
              "      <td>...</td>\n",
              "      <td>...</td>\n",
              "      <td>...</td>\n",
              "      <td>...</td>\n",
              "      <td>...</td>\n",
              "      <td>...</td>\n",
              "      <td>...</td>\n",
              "      <td>...</td>\n",
              "      <td>...</td>\n",
              "      <td>...</td>\n",
              "      <td>...</td>\n",
              "      <td>...</td>\n",
              "      <td>...</td>\n",
              "      <td>...</td>\n",
              "      <td>...</td>\n",
              "      <td>...</td>\n",
              "      <td>...</td>\n",
              "      <td>...</td>\n",
              "      <td>...</td>\n",
              "      <td>...</td>\n",
              "      <td>...</td>\n",
              "    </tr>\n",
              "    <tr>\n",
              "      <th>1936</th>\n",
              "      <td>249</td>\n",
              "      <td>277</td>\n",
              "      <td>325780</td>\n",
              "      <td>325796</td>\n",
              "      <td>273</td>\n",
              "      <td>54</td>\n",
              "      <td>22</td>\n",
              "      <td>35033</td>\n",
              "      <td>119</td>\n",
              "      <td>141</td>\n",
              "      <td>...</td>\n",
              "      <td>-0.4286</td>\n",
              "      <td>0.0026</td>\n",
              "      <td>0.7254</td>\n",
              "      <td>0</td>\n",
              "      <td>0</td>\n",
              "      <td>0</td>\n",
              "      <td>0</td>\n",
              "      <td>0</td>\n",
              "      <td>0</td>\n",
              "      <td>1</td>\n",
              "    </tr>\n",
              "    <tr>\n",
              "      <th>1937</th>\n",
              "      <td>144</td>\n",
              "      <td>175</td>\n",
              "      <td>340581</td>\n",
              "      <td>340598</td>\n",
              "      <td>287</td>\n",
              "      <td>44</td>\n",
              "      <td>24</td>\n",
              "      <td>34599</td>\n",
              "      <td>112</td>\n",
              "      <td>133</td>\n",
              "      <td>...</td>\n",
              "      <td>-0.4516</td>\n",
              "      <td>-0.0582</td>\n",
              "      <td>0.8173</td>\n",
              "      <td>0</td>\n",
              "      <td>0</td>\n",
              "      <td>0</td>\n",
              "      <td>0</td>\n",
              "      <td>0</td>\n",
              "      <td>0</td>\n",
              "      <td>1</td>\n",
              "    </tr>\n",
              "    <tr>\n",
              "      <th>1938</th>\n",
              "      <td>145</td>\n",
              "      <td>174</td>\n",
              "      <td>386779</td>\n",
              "      <td>386794</td>\n",
              "      <td>292</td>\n",
              "      <td>40</td>\n",
              "      <td>22</td>\n",
              "      <td>37572</td>\n",
              "      <td>120</td>\n",
              "      <td>140</td>\n",
              "      <td>...</td>\n",
              "      <td>-0.4828</td>\n",
              "      <td>0.0052</td>\n",
              "      <td>0.7079</td>\n",
              "      <td>0</td>\n",
              "      <td>0</td>\n",
              "      <td>0</td>\n",
              "      <td>0</td>\n",
              "      <td>0</td>\n",
              "      <td>0</td>\n",
              "      <td>1</td>\n",
              "    </tr>\n",
              "    <tr>\n",
              "      <th>1939</th>\n",
              "      <td>137</td>\n",
              "      <td>170</td>\n",
              "      <td>422497</td>\n",
              "      <td>422528</td>\n",
              "      <td>419</td>\n",
              "      <td>97</td>\n",
              "      <td>47</td>\n",
              "      <td>52715</td>\n",
              "      <td>117</td>\n",
              "      <td>140</td>\n",
              "      <td>...</td>\n",
              "      <td>-0.0606</td>\n",
              "      <td>-0.0171</td>\n",
              "      <td>0.9919</td>\n",
              "      <td>0</td>\n",
              "      <td>0</td>\n",
              "      <td>0</td>\n",
              "      <td>0</td>\n",
              "      <td>0</td>\n",
              "      <td>0</td>\n",
              "      <td>1</td>\n",
              "    </tr>\n",
              "    <tr>\n",
              "      <th>1940</th>\n",
              "      <td>1261</td>\n",
              "      <td>1281</td>\n",
              "      <td>87951</td>\n",
              "      <td>87967</td>\n",
              "      <td>103</td>\n",
              "      <td>26</td>\n",
              "      <td>22</td>\n",
              "      <td>11682</td>\n",
              "      <td>101</td>\n",
              "      <td>133</td>\n",
              "      <td>...</td>\n",
              "      <td>-0.2000</td>\n",
              "      <td>-0.1139</td>\n",
              "      <td>0.5296</td>\n",
              "      <td>0</td>\n",
              "      <td>0</td>\n",
              "      <td>0</td>\n",
              "      <td>0</td>\n",
              "      <td>0</td>\n",
              "      <td>0</td>\n",
              "      <td>1</td>\n",
              "    </tr>\n",
              "  </tbody>\n",
              "</table>\n",
              "<p>1941 rows × 34 columns</p>\n",
              "</div>"
            ],
            "text/plain": [
              "      X_Minimum  X_Maximum  Y_Minimum  Y_Maximum  Pixels_Areas  X_Perimeter  \\\n",
              "0            42         50     270900     270944           267           17   \n",
              "1           645        651    2538079    2538108           108           10   \n",
              "2           829        835    1553913    1553931            71            8   \n",
              "3           853        860     369370     369415           176           13   \n",
              "4          1289       1306     498078     498335          2409           60   \n",
              "...         ...        ...        ...        ...           ...          ...   \n",
              "1936        249        277     325780     325796           273           54   \n",
              "1937        144        175     340581     340598           287           44   \n",
              "1938        145        174     386779     386794           292           40   \n",
              "1939        137        170     422497     422528           419           97   \n",
              "1940       1261       1281      87951      87967           103           26   \n",
              "\n",
              "      Y_Perimeter  Sum_of_Luminosity  Minimum_of_Luminosity  \\\n",
              "0              44              24220                     76   \n",
              "1              30              11397                     84   \n",
              "2              19               7972                     99   \n",
              "3              45              18996                     99   \n",
              "4             260             246930                     37   \n",
              "...           ...                ...                    ...   \n",
              "1936           22              35033                    119   \n",
              "1937           24              34599                    112   \n",
              "1938           22              37572                    120   \n",
              "1939           47              52715                    117   \n",
              "1940           22              11682                    101   \n",
              "\n",
              "      Maximum_of_Luminosity  ...  Orientation_Index  Luminosity_Index  \\\n",
              "0                       108  ...             0.8182           -0.2913   \n",
              "1                       123  ...             0.7931           -0.1756   \n",
              "2                       125  ...             0.6667           -0.1228   \n",
              "3                       126  ...             0.8444           -0.1568   \n",
              "4                       126  ...             0.9338           -0.1992   \n",
              "...                     ...  ...                ...               ...   \n",
              "1936                    141  ...            -0.4286            0.0026   \n",
              "1937                    133  ...            -0.4516           -0.0582   \n",
              "1938                    140  ...            -0.4828            0.0052   \n",
              "1939                    140  ...            -0.0606           -0.0171   \n",
              "1940                    133  ...            -0.2000           -0.1139   \n",
              "\n",
              "      SigmoidOfAreas  Pastry  Z_Scratch  K_Scatch  Stains  Dirtiness  Bumps  \\\n",
              "0             0.5822       1          0         0       0          0      0   \n",
              "1             0.2984       1          0         0       0          0      0   \n",
              "2             0.2150       1          0         0       0          0      0   \n",
              "3             0.5212       1          0         0       0          0      0   \n",
              "4             1.0000       1          0         0       0          0      0   \n",
              "...              ...     ...        ...       ...     ...        ...    ...   \n",
              "1936          0.7254       0          0         0       0          0      0   \n",
              "1937          0.8173       0          0         0       0          0      0   \n",
              "1938          0.7079       0          0         0       0          0      0   \n",
              "1939          0.9919       0          0         0       0          0      0   \n",
              "1940          0.5296       0          0         0       0          0      0   \n",
              "\n",
              "      Other_Faults  \n",
              "0                0  \n",
              "1                0  \n",
              "2                0  \n",
              "3                0  \n",
              "4                0  \n",
              "...            ...  \n",
              "1936             1  \n",
              "1937             1  \n",
              "1938             1  \n",
              "1939             1  \n",
              "1940             1  \n",
              "\n",
              "[1941 rows x 34 columns]"
            ]
          },
          "metadata": {},
          "output_type": "display_data"
        }
      ],
      "source": [
        "fsp_dataset = pd.read_csv(\"faults.csv\")\n",
        "display(fsp_dataset)"
      ]
    },
    {
      "cell_type": "code",
      "execution_count": 7,
      "metadata": {},
      "outputs": [
        {
          "name": "stdout",
          "output_type": "stream",
          "text": [
            "Number of variables: 7, Number of constraints: 4\n"
          ]
        }
      ],
      "source": [
        "from pishield.linear_requirements.parser import parse_constraints_file, remap_constraint_variables\n",
        "\n",
        "constraints_file = \"constraints.txt\"\n",
        "ordering, constraints = parse_constraints_file(constraints_file)\n",
        "ordering, constraints, reverse_mapping = remap_constraint_variables(ordering, constraints)\n",
        "num_variables = len(ordering)\n",
        "print(f\"Number of variables: {num_variables}, Number of constraints: {len(constraints)}\")\n",
        "\n",
        "target_columns = list(map(lambda var: fsp_dataset.columns[int(var.split('_')[1])], reverse_mapping.values()))"
      ]
    },
    {
      "cell_type": "code",
      "execution_count": 8,
      "metadata": {
        "id": "Ailr2LrNJH_4"
      },
      "outputs": [],
      "source": [
        "from pishield.linear_requirements.utils import check_constraint_satisfaction\n",
        "\n",
        "fsp_dataset_shuffled = fsp_dataset.sample(frac=1, random_state=42).reset_index(drop=True)\n",
        "\n",
        "target_columns = list(map(lambda var: fsp_dataset_shuffled.columns[int(var.split('_')[1])], reverse_mapping.values()))\n",
        "all_column_names = fsp_dataset_shuffled.columns.tolist()\n",
        "input_columns = [col for col in all_column_names if col not in target_columns]\n",
        "\n",
        "X = fsp_dataset_shuffled[input_columns]\n",
        "y = fsp_dataset_shuffled[target_columns]\n",
        "\n",
        "continuous_input_features = [\n",
        "    'Pixels_Areas', 'X_Perimeter', 'Y_Perimeter',\n",
        "    'Length_of_Conveyer', 'Steel_Plate_Thickness', 'Edges_Index',\n",
        "    'Empty_Index', 'Square_Index', 'Outside_X_Index', 'Edges_X_Index',\n",
        "    'Edges_Y_Index', 'Outside_Global_Index', 'LogOfAreas', 'Log_X_Index',\n",
        "    'Log_Y_Index', 'Orientation_Index', 'Luminosity_Index', 'SigmoidOfAreas'\n",
        "]\n",
        "\n",
        "categorical_input_features = [\n",
        "    'TypeOfSteel_A300', 'TypeOfSteel_A400',\n",
        "    'Pastry', 'Z_Scratch', 'K_Scatch', 'Stains', 'Dirtiness', 'Bumps', 'Other_Faults'\n",
        "]\n",
        "\n",
        "assert set(continuous_input_features + categorical_input_features) == set(input_columns)\n",
        "\n",
        "# Split the dataset into 70-10-20\n",
        "X_train_val, X_test, y_train_val, y_test = train_test_split(\n",
        "    X, y, test_size=0.2, random_state=42\n",
        ")\n",
        "\n",
        "X_train, X_val, y_train, y_val = train_test_split(\n",
        "    X_train_val, y_train_val, test_size=0.125, random_state=42\n",
        ")"
      ]
    },
    {
      "cell_type": "code",
      "execution_count": 9,
      "metadata": {},
      "outputs": [],
      "source": [
        "# X_train, y_train = torch.tensor(X_train.to_numpy(), dtype=torch.float32), torch.tensor(y_train.to_numpy(), dtype=torch.float32)\n",
        "# X_val, y_val = torch.tensor(X_val.to_numpy(), dtype=torch.float32), torch.tensor(y_val.to_numpy(), dtype=torch.float32)\n",
        "# X_test, y_test = torch.tensor(X_test.to_numpy(), dtype=torch.float32), torch.tensor(y_test.to_numpy(), dtype=torch.float32)"
      ]
    },
    {
      "cell_type": "code",
      "execution_count": 10,
      "metadata": {},
      "outputs": [
        {
          "name": "stdout",
          "output_type": "stream",
          "text": [
            "Constraints Satisfied: True\n"
          ]
        }
      ],
      "source": [
        "# Changes the column order, first columns are the scaled continuous columns,\n",
        "# the following columns are categorical (binary in this case) and are passed\n",
        "# through\n",
        "preprocessor = ColumnTransformer(\n",
        "    transformers=[\n",
        "        ('num', StandardScaler(), continuous_input_features),\n",
        "        ('cat', 'passthrough', categorical_input_features)\n",
        "    ],\n",
        ")\n",
        "\n",
        "X_train = torch.tensor(preprocessor.fit_transform(X_train), dtype=torch.float32)\n",
        "X_val = torch.tensor(preprocessor.transform(X_val), dtype=torch.float32)\n",
        "X_test = torch.tensor(preprocessor.transform(X_test), dtype=torch.float32)\n",
        "\n",
        "y_train = torch.tensor(y_train.values, dtype=torch.float32)\n",
        "y_val = torch.tensor(y_val.values, dtype=torch.float32)\n",
        "y_test = torch.tensor(y_test.values, dtype=torch.float32)\n",
        "\n",
        "print(f\"Constraints Satisfied: {check_constraint_satisfaction(y_train, constraints) \\\n",
        "        and check_constraint_satisfaction(y_val, constraints) \\\n",
        "            and check_constraint_satisfaction(y_test, constraints)}\")"
      ]
    },
    {
      "cell_type": "code",
      "execution_count": 11,
      "metadata": {},
      "outputs": [],
      "source": [
        "# Disabling shufle for a little more determinism in measuring\n",
        "# performance across architectures\n",
        "train_loader = DataLoader(\n",
        "    TensorDataset(X_train, y_train), batch_size=32, shuffle=True\n",
        ")\n",
        "\n",
        "val_loader = DataLoader(\n",
        "    TensorDataset(X_val, y_val), batch_size=32\n",
        ")\n",
        "\n",
        "test_loader = DataLoader(\n",
        "    TensorDataset(X_test, y_test), batch_size=32\n",
        ")"
      ]
    },
    {
      "cell_type": "code",
      "execution_count": 12,
      "metadata": {
        "id": "lzCpu7Sl1AMX"
      },
      "outputs": [],
      "source": [
        "from pishield.linear_requirements.utils import check_constraint_satisfaction\n",
        "from pishield.linear_requirements.adjusted_constraint_loss import adjusted_constraint_loss\n",
        "import torch\n",
        "import torch.nn.functional as F\n",
        "\n",
        "def train_and_evaluate(model, optimizer, train_loader, val_loader,\n",
        "                       num_epochs=10, optim_layer=False):\n",
        "    # Move model to device\n",
        "    model.to(device)\n",
        "\n",
        "    for epoch in range(num_epochs):\n",
        "        # Training\n",
        "        model.train()\n",
        "        epoch_train_loss = 0.0\n",
        "        progress_bar = tqdm(train_loader, leave=False)\n",
        "        progress_bar.set_description(f\"Epoch {epoch+1}/{num_epochs}\")\n",
        "\n",
        "        training_runs, runs_satisfied = 0, 0\n",
        "\n",
        "        for i, (inputs, targets) in enumerate(progress_bar):\n",
        "            inputs, targets = inputs.to(device), targets.to(device)\n",
        "            optimizer.zero_grad()\n",
        "\n",
        "            if optim_layer:\n",
        "                outputs = model(inputs, targets)\n",
        "                masks = model.shield_layer.masks\n",
        "                loss = adjusted_constraint_loss(outputs, targets, masks)\n",
        "            else:\n",
        "                outputs = model(inputs)\n",
        "                loss = F.mse_loss(outputs, targets)\n",
        "\n",
        "            loss.backward()\n",
        "            optimizer.step()\n",
        "            epoch_train_loss += loss.item()\n",
        "            training_runs += 1\n",
        "            runs_satisfied += int(check_constraint_satisfaction(targets, constraints))\n",
        "            if i % 10 == 0:\n",
        "                progress_bar.set_postfix(loss=loss.item())\n",
        "\n",
        "        print(f\"Constraints satisfied (training): {runs_satisfied}/{training_runs}\")\n",
        "        avg_train_loss = epoch_train_loss / len(train_loader)\n",
        "\n",
        "        if optim_layer and hasattr(model, 'shield_layer'):\n",
        "            if hasattr(model.shield_layer, 'temperature'):\n",
        "                current_temp = model.shield_layer.temperature.item()\n",
        "                model.shield_layer.anneal_temperature(device)\n",
        "                new_temp = model.shield_layer.temperature.item()\n",
        "                if epoch % 1 == 0:\n",
        "                    print(f\"Annealed temperature from {current_temp:.4f} to {new_temp:.4f}\")\n",
        "\n",
        "        # Evaluation\n",
        "        model.eval()\n",
        "        with torch.no_grad():\n",
        "            val_predictions = []\n",
        "            val_targets_list = []\n",
        "            validation_runs, runs_satisfied = 0, 0\n",
        "\n",
        "            for val_inputs, val_targets in val_loader:\n",
        "                val_inputs = val_inputs.to(device)\n",
        "                val_targets = val_targets.to(device)\n",
        "                val_outputs = model(val_inputs)\n",
        "\n",
        "                # Store outputs and targets (move to CPU for later processing)\n",
        "                val_predictions.append(val_outputs.cpu())\n",
        "                val_targets_list.append(val_targets.cpu())\n",
        "\n",
        "                validation_runs += 1\n",
        "                runs_satisfied += int(check_constraint_satisfaction(val_outputs, constraints))\n",
        "\n",
        "            # Concatenate all batches\n",
        "            all_val_predictions = torch.cat(val_predictions, dim=0)\n",
        "            all_val_targets = torch.cat(val_targets_list, dim=0)\n",
        "\n",
        "            val_rmse = torch.sqrt(F.mse_loss(all_val_predictions, all_val_targets))\n",
        "            print(f\"Constraints satisfied (validation): {runs_satisfied}/{validation_runs}\")\n",
        "\n",
        "        print(f\"Epoch {epoch+1}/{num_epochs} | Train Loss: {avg_train_loss:.4f} | Val RMSE: {val_rmse:.4f}\")"
      ]
    },
    {
      "cell_type": "code",
      "execution_count": 13,
      "metadata": {},
      "outputs": [],
      "source": [
        "def test_model(model, test_loader, constraints):\n",
        "    model.eval()\n",
        "    model.to(device)\n",
        "\n",
        "    test_predictions = []\n",
        "    test_targets_list = []\n",
        "    test_runs, runs_satisfied = 0, 0\n",
        "\n",
        "    with torch.no_grad():\n",
        "        for test_inputs, test_targets in test_loader:\n",
        "            test_inputs = test_inputs.to(device)\n",
        "            test_targets = test_targets.to(device)\n",
        "            test_outputs = model(test_inputs)\n",
        "\n",
        "            # Store outputs and targets (move to CPU for later processing)\n",
        "            test_predictions.append(test_outputs.cpu())\n",
        "            test_targets_list.append(test_targets.cpu())\n",
        "\n",
        "            test_runs += 1\n",
        "            runs_satisfied += int(check_constraint_satisfaction(test_outputs, constraints))\n",
        "\n",
        "    # Concatenate all batches\n",
        "    all_test_predictions = torch.cat(test_predictions, dim=0)\n",
        "    all_test_targets = torch.cat(test_targets_list, dim=0)\n",
        "\n",
        "    test_rmse = torch.sqrt(F.mse_loss(all_test_predictions, all_test_targets))\n",
        "\n",
        "    print(f\"\\nConstraints satisfied (testing): {runs_satisfied}/{test_runs}\")\n",
        "    print(f\"Test RMSE: {test_rmse:.4f}\")"
      ]
    },
    {
      "cell_type": "code",
      "execution_count": 14,
      "metadata": {},
      "outputs": [
        {
          "name": "stderr",
          "output_type": "stream",
          "text": [
            "                                                                          \r"
          ]
        },
        {
          "name": "stdout",
          "output_type": "stream",
          "text": [
            "Constraints satisfied (training): 43/43\n",
            "Constraints satisfied (validation): 0/7\n",
            "Epoch 1/10 | Train Loss: 1602889521866.4187 | Val RMSE: 1476069.1250\n"
          ]
        },
        {
          "name": "stderr",
          "output_type": "stream",
          "text": [
            "                                                                          \r"
          ]
        },
        {
          "name": "stdout",
          "output_type": "stream",
          "text": [
            "Constraints satisfied (training): 43/43\n",
            "Constraints satisfied (validation): 0/7\n",
            "Epoch 2/10 | Train Loss: 1661289682515.3489 | Val RMSE: 1476066.7500\n"
          ]
        },
        {
          "name": "stderr",
          "output_type": "stream",
          "text": [
            "                                                                          \r"
          ]
        },
        {
          "name": "stdout",
          "output_type": "stream",
          "text": [
            "Constraints satisfied (training): 43/43\n",
            "Constraints satisfied (validation): 0/7\n",
            "Epoch 3/10 | Train Loss: 1618346582968.5581 | Val RMSE: 1476056.8750\n"
          ]
        },
        {
          "name": "stderr",
          "output_type": "stream",
          "text": [
            "                                                                           \r"
          ]
        },
        {
          "name": "stdout",
          "output_type": "stream",
          "text": [
            "Constraints satisfied (training): 43/43\n",
            "Constraints satisfied (validation): 0/7\n",
            "Epoch 4/10 | Train Loss: 1614884549274.7908 | Val RMSE: 1476031.1250\n"
          ]
        },
        {
          "name": "stderr",
          "output_type": "stream",
          "text": [
            "                                                                           \r"
          ]
        },
        {
          "name": "stdout",
          "output_type": "stream",
          "text": [
            "Constraints satisfied (training): 43/43\n",
            "Constraints satisfied (validation): 0/7\n",
            "Epoch 5/10 | Train Loss: 1607350669407.2559 | Val RMSE: 1475980.6250\n"
          ]
        },
        {
          "name": "stderr",
          "output_type": "stream",
          "text": [
            "                                                                           \r"
          ]
        },
        {
          "name": "stdout",
          "output_type": "stream",
          "text": [
            "Constraints satisfied (training): 43/43\n",
            "Constraints satisfied (validation): 0/7\n",
            "Epoch 6/10 | Train Loss: 1615318979798.3257 | Val RMSE: 1475895.6250\n"
          ]
        },
        {
          "name": "stderr",
          "output_type": "stream",
          "text": [
            "                                                                           \r"
          ]
        },
        {
          "name": "stdout",
          "output_type": "stream",
          "text": [
            "Constraints satisfied (training): 43/43\n",
            "Constraints satisfied (validation): 0/7\n",
            "Epoch 7/10 | Train Loss: 1612241258353.1162 | Val RMSE: 1475766.1250\n"
          ]
        },
        {
          "name": "stderr",
          "output_type": "stream",
          "text": [
            "                                                                           \r"
          ]
        },
        {
          "name": "stdout",
          "output_type": "stream",
          "text": [
            "Constraints satisfied (training): 43/43\n",
            "Constraints satisfied (validation): 0/7\n",
            "Epoch 8/10 | Train Loss: 1630243793324.6511 | Val RMSE: 1475585.8750\n"
          ]
        },
        {
          "name": "stderr",
          "output_type": "stream",
          "text": [
            "                                                                           \r"
          ]
        },
        {
          "name": "stdout",
          "output_type": "stream",
          "text": [
            "Constraints satisfied (training): 43/43\n",
            "Constraints satisfied (validation): 0/7\n",
            "Epoch 9/10 | Train Loss: 1601627019597.3953 | Val RMSE: 1475348.1250\n"
          ]
        },
        {
          "name": "stderr",
          "output_type": "stream",
          "text": [
            "                                                                            \r"
          ]
        },
        {
          "name": "stdout",
          "output_type": "stream",
          "text": [
            "Constraints satisfied (training): 43/43\n",
            "Constraints satisfied (validation): 0/7\n",
            "Epoch 10/10 | Train Loss: 1602194716052.8372 | Val RMSE: 1475043.8750\n",
            "\n",
            "Constraints satisfied (testing): 0/13\n",
            "Test RMSE: 1359953.3750\n"
          ]
        }
      ],
      "source": [
        "class BasicMLPNet(nn.Module):\n",
        "    def __init__(self, input_size, output_size):\n",
        "        super().__init__()\n",
        "        self.layers = nn.Sequential(\n",
        "            nn.Linear(input_size, 32),\n",
        "            nn.ReLU(inplace=True),\n",
        "            nn.Linear(32, 64),\n",
        "            nn.ReLU(inplace=True),\n",
        "            nn.Linear(64, output_size)\n",
        "        )\n",
        "\n",
        "    def forward(self, x):\n",
        "        return self.layers(x)\n",
        "\n",
        "model = BasicMLPNet(len(input_columns), len(target_columns))\n",
        "optimizer = optim.Adam(model.parameters())\n",
        "\n",
        "train_and_evaluate(\n",
        "    model, optimizer, train_loader,\n",
        "    val_loader, num_epochs=10,\n",
        "    optim_layer=False\n",
        ")\n",
        "\n",
        "test_model(model, test_loader, constraints)"
      ]
    },
    {
      "cell_type": "code",
      "execution_count": 15,
      "metadata": {},
      "outputs": [],
      "source": [
        "from pishield.linear_requirements.shield_layer import ShieldLayer\n",
        "\n",
        "class ShieldMLPNet(nn.Module):\n",
        "    def __init__(self, input_size, output_size, constraints_file):\n",
        "        super().__init__()\n",
        "        self.mlp = BasicMLPNet(input_size, output_size)\n",
        "        self.shield_layer = ShieldLayer(output_size, constraints_file)\n",
        "\n",
        "    def forward(self, x, y=None):\n",
        "        out = self.shield_layer(self.mlp(x), y)\n",
        "        return out"
      ]
    },
    {
      "cell_type": "code",
      "execution_count": 16,
      "metadata": {},
      "outputs": [
        {
          "name": "stdout",
          "output_type": "stream",
          "text": [
            "All constraints\n",
            " + y_1 - y_0 > 0.0\n",
            " + y_3 - y_2 > 0.0\n",
            " + y_6 - y_5 > 0.0\n",
            " + y_4 - y_6 > 0.0\n"
          ]
        },
        {
          "name": "stderr",
          "output_type": "stream",
          "text": [
            "                                                                          \r"
          ]
        },
        {
          "name": "stdout",
          "output_type": "stream",
          "text": [
            "Constraints satisfied (training): 43/43\n",
            "Constraints satisfied (validation): 7/7\n",
            "Epoch 1/10 | Train Loss: 1637785061995.1628 | Val RMSE: 1476069.0000\n"
          ]
        },
        {
          "name": "stderr",
          "output_type": "stream",
          "text": [
            "                                                                          \r"
          ]
        },
        {
          "name": "stdout",
          "output_type": "stream",
          "text": [
            "Constraints satisfied (training): 43/43\n",
            "Constraints satisfied (validation): 7/7\n",
            "Epoch 2/10 | Train Loss: 1601971841071.6279 | Val RMSE: 1476066.1250\n"
          ]
        },
        {
          "name": "stderr",
          "output_type": "stream",
          "text": [
            "                                                                          \r"
          ]
        },
        {
          "name": "stdout",
          "output_type": "stream",
          "text": [
            "Constraints satisfied (training): 43/43\n",
            "Constraints satisfied (validation): 7/7\n",
            "Epoch 3/10 | Train Loss: 1614477585955.7209 | Val RMSE: 1476053.8750\n"
          ]
        },
        {
          "name": "stderr",
          "output_type": "stream",
          "text": [
            "                                                                          \r"
          ]
        },
        {
          "name": "stdout",
          "output_type": "stream",
          "text": [
            "Constraints satisfied (training): 43/43\n",
            "Constraints satisfied (validation): 7/7\n",
            "Epoch 4/10 | Train Loss: 1616728618007.8140 | Val RMSE: 1476023.2500\n"
          ]
        },
        {
          "name": "stderr",
          "output_type": "stream",
          "text": [
            "                                                                          \r"
          ]
        },
        {
          "name": "stdout",
          "output_type": "stream",
          "text": [
            "Constraints satisfied (training): 43/43\n",
            "Constraints satisfied (validation): 7/7\n",
            "Epoch 5/10 | Train Loss: 1611644841126.6978 | Val RMSE: 1475964.7500\n"
          ]
        },
        {
          "name": "stderr",
          "output_type": "stream",
          "text": [
            "                                                                          \r"
          ]
        },
        {
          "name": "stdout",
          "output_type": "stream",
          "text": [
            "Constraints satisfied (training): 43/43\n",
            "Constraints satisfied (validation): 7/7\n",
            "Epoch 6/10 | Train Loss: 1616001329961.6743 | Val RMSE: 1475868.1250\n"
          ]
        },
        {
          "name": "stderr",
          "output_type": "stream",
          "text": [
            "                                                                          \r"
          ]
        },
        {
          "name": "stdout",
          "output_type": "stream",
          "text": [
            "Constraints satisfied (training): 43/43\n",
            "Constraints satisfied (validation): 7/7\n",
            "Epoch 7/10 | Train Loss: 1622233878242.2327 | Val RMSE: 1475726.5000\n"
          ]
        },
        {
          "name": "stderr",
          "output_type": "stream",
          "text": [
            "                                                                          \r"
          ]
        },
        {
          "name": "stdout",
          "output_type": "stream",
          "text": [
            "Constraints satisfied (training): 43/43\n",
            "Constraints satisfied (validation): 7/7\n",
            "Epoch 8/10 | Train Loss: 1602843456154.7908 | Val RMSE: 1475528.5000\n"
          ]
        },
        {
          "name": "stderr",
          "output_type": "stream",
          "text": [
            "                                                                          \r"
          ]
        },
        {
          "name": "stdout",
          "output_type": "stream",
          "text": [
            "Constraints satisfied (training): 43/43\n",
            "Constraints satisfied (validation): 7/7\n",
            "Epoch 9/10 | Train Loss: 1609812085736.1860 | Val RMSE: 1475269.3750\n"
          ]
        },
        {
          "name": "stderr",
          "output_type": "stream",
          "text": [
            "                                                                           \r"
          ]
        },
        {
          "name": "stdout",
          "output_type": "stream",
          "text": [
            "Constraints satisfied (training): 43/43\n",
            "Constraints satisfied (validation): 7/7\n",
            "Epoch 10/10 | Train Loss: 1624398869146.7908 | Val RMSE: 1474937.0000\n",
            "\n",
            "Constraints satisfied (testing): 13/13\n",
            "Test RMSE: 1359851.6250\n"
          ]
        }
      ],
      "source": [
        "original_model = ShieldMLPNet(len(input_columns), len(target_columns), constraints_file)\n",
        "\n",
        "optimizer = optim.Adam(original_model.parameters())\n",
        "\n",
        "train_and_evaluate(\n",
        "    original_model, optimizer, train_loader,\n",
        "    val_loader, num_epochs=10,\n",
        "    optim_layer=False\n",
        ")\n",
        "\n",
        "test_model(original_model, test_loader, constraints)"
      ]
    },
    {
      "cell_type": "code",
      "execution_count": 17,
      "metadata": {},
      "outputs": [
        {
          "name": "stdout",
          "output_type": "stream",
          "text": [
            "All constraints\n",
            " + y_1 - y_0 > 0.0\n",
            " + y_3 - y_2 > 0.0\n",
            " + y_6 - y_5 > 0.0\n",
            " + y_4 - y_6 > 0.0\n"
          ]
        },
        {
          "name": "stderr",
          "output_type": "stream",
          "text": [
            "                                                                          \r"
          ]
        },
        {
          "name": "stdout",
          "output_type": "stream",
          "text": [
            "Constraints satisfied (training): 43/43\n",
            "Constraints satisfied (validation): 7/7\n",
            "Epoch 1/10 | Train Loss: 1641006429207.8140 | Val RMSE: 1476068.8750\n"
          ]
        },
        {
          "name": "stderr",
          "output_type": "stream",
          "text": [
            "                                                                          \r"
          ]
        },
        {
          "name": "stdout",
          "output_type": "stream",
          "text": [
            "Constraints satisfied (training): 43/43\n",
            "Constraints satisfied (validation): 7/7\n",
            "Epoch 2/10 | Train Loss: 1616622394820.4651 | Val RMSE: 1476065.8750\n"
          ]
        },
        {
          "name": "stderr",
          "output_type": "stream",
          "text": [
            "                                                                          \r"
          ]
        },
        {
          "name": "stdout",
          "output_type": "stream",
          "text": [
            "Constraints satisfied (training): 43/43\n",
            "Constraints satisfied (validation): 7/7\n",
            "Epoch 3/10 | Train Loss: 1603930535316.8372 | Val RMSE: 1476054.8750\n"
          ]
        },
        {
          "name": "stderr",
          "output_type": "stream",
          "text": [
            "                                                                          \r"
          ]
        },
        {
          "name": "stdout",
          "output_type": "stream",
          "text": [
            "Constraints satisfied (training): 43/43\n",
            "Constraints satisfied (validation): 7/7\n",
            "Epoch 4/10 | Train Loss: 1612997755642.0466 | Val RMSE: 1476029.1250\n"
          ]
        },
        {
          "name": "stderr",
          "output_type": "stream",
          "text": [
            "                                                                          \r"
          ]
        },
        {
          "name": "stdout",
          "output_type": "stream",
          "text": [
            "Constraints satisfied (training): 43/43\n",
            "Constraints satisfied (validation): 7/7\n",
            "Epoch 5/10 | Train Loss: 1613596675429.2092 | Val RMSE: 1475979.2500\n"
          ]
        },
        {
          "name": "stderr",
          "output_type": "stream",
          "text": [
            "                                                                          \r"
          ]
        },
        {
          "name": "stdout",
          "output_type": "stream",
          "text": [
            "Constraints satisfied (training): 43/43\n",
            "Constraints satisfied (validation): 7/7\n",
            "Epoch 6/10 | Train Loss: 1606246657571.7209 | Val RMSE: 1475899.6250\n"
          ]
        },
        {
          "name": "stderr",
          "output_type": "stream",
          "text": [
            "                                                                          \r"
          ]
        },
        {
          "name": "stdout",
          "output_type": "stream",
          "text": [
            "Constraints satisfied (training): 43/43\n",
            "Constraints satisfied (validation): 7/7\n",
            "Epoch 7/10 | Train Loss: 1642033151237.9534 | Val RMSE: 1475781.6250\n"
          ]
        },
        {
          "name": "stderr",
          "output_type": "stream",
          "text": [
            "                                                                          \r"
          ]
        },
        {
          "name": "stdout",
          "output_type": "stream",
          "text": [
            "Constraints satisfied (training): 43/43\n",
            "Constraints satisfied (validation): 7/7\n",
            "Epoch 8/10 | Train Loss: 1603877860375.8140 | Val RMSE: 1475618.0000\n"
          ]
        },
        {
          "name": "stderr",
          "output_type": "stream",
          "text": [
            "                                                                          \r"
          ]
        },
        {
          "name": "stdout",
          "output_type": "stream",
          "text": [
            "Constraints satisfied (training): 43/43\n",
            "Constraints satisfied (validation): 7/7\n",
            "Epoch 9/10 | Train Loss: 1601932921832.1860 | Val RMSE: 1475401.8750\n"
          ]
        },
        {
          "name": "stderr",
          "output_type": "stream",
          "text": [
            "                                                                           \r"
          ]
        },
        {
          "name": "stdout",
          "output_type": "stream",
          "text": [
            "Constraints satisfied (training): 43/43\n",
            "Constraints satisfied (validation): 7/7\n",
            "Epoch 10/10 | Train Loss: 1612657485871.6279 | Val RMSE: 1475133.6250\n",
            "\n",
            "Constraints satisfied (testing): 13/13\n",
            "Test RMSE: 1359978.7500\n"
          ]
        }
      ],
      "source": [
        "improved_model = ShieldMLPNet(len(input_columns), len(target_columns), constraints_file)\n",
        "\n",
        "optimizer = optim.Adam(improved_model.parameters())\n",
        "\n",
        "train_and_evaluate(\n",
        "    improved_model, optimizer, train_loader,\n",
        "    val_loader, num_epochs=10,\n",
        "    optim_layer=True\n",
        ")\n",
        "\n",
        "test_model(improved_model, test_loader, constraints)"
      ]
    }
  ],
  "metadata": {
    "colab": {
      "provenance": []
    },
    "kernelspec": {
      "display_name": "venv",
      "language": "python",
      "name": "python3"
    },
    "language_info": {
      "codemirror_mode": {
        "name": "ipython",
        "version": 3
      },
      "file_extension": ".py",
      "mimetype": "text/x-python",
      "name": "python",
      "nbconvert_exporter": "python",
      "pygments_lexer": "ipython3",
      "version": "3.13.2"
    }
  },
  "nbformat": 4,
  "nbformat_minor": 0
}
