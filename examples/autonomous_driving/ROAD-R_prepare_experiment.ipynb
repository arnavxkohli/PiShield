{
 "cells": [
  {
   "cell_type": "markdown",
   "source": [
    "# PiShield for Autonomous Driving\n",
    "## Building Shield Layers on top of 3D-RetinaNet for ROAD-R"
   ],
   "metadata": {
    "collapsed": false
   },
   "id": "75a797084c6491e6"
  },
  {
   "cell_type": "markdown",
   "source": [
    "First, clone the [repository](https://github.com/mihaela-stoian/StrongCoherency_CL_ROAD-R) containing the code for this task:"
   ],
   "metadata": {
    "collapsed": false
   },
   "id": "5650b0e8782761f4"
  },
  {
   "cell_type": "code",
   "outputs": [],
   "source": [
    "%%bash\n",
    "if [ ! -d \"StrongCoherency_CL_ROAD-R\" ]; \n",
    "    then git clone https://github.com/mihaela-stoian/StrongCoherency_CL_ROAD-R \n",
    "fi\n",
    "\n",
    "cd StrongCoherency_CL_ROAD-R\n",
    "git checkout master"
   ],
   "metadata": {
    "collapsed": false
   },
   "id": "18929c485c69067a",
   "execution_count": null
  },
  {
   "cell_type": "markdown",
   "source": [
    "Then, follow the instructions provided in the README of the [repository](https://github.com/mihaela-stoian/StrongCoherency_CL_ROAD-R).\n",
    "\n",
    "An example shell script of how to run the code (and what hyperparameters to use) can be found in `StrongCoherency_CL_ROAD-R/train_script.sh`."
   ],
   "metadata": {
    "collapsed": false
   },
   "id": "6e0c232df2d92de7"
  }
 ],
 "metadata": {
  "kernelspec": {
   "display_name": "Python 3",
   "language": "python",
   "name": "python3"
  },
  "language_info": {
   "codemirror_mode": {
    "name": "ipython",
    "version": 2
   },
   "file_extension": ".py",
   "mimetype": "text/x-python",
   "name": "python",
   "nbconvert_exporter": "python",
   "pygments_lexer": "ipython2",
   "version": "2.7.6"
  }
 },
 "nbformat": 4,
 "nbformat_minor": 5
}
