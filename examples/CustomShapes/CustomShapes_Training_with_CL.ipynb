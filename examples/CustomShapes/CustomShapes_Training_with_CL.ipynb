{
 "cells": [
  {
   "cell_type": "markdown",
   "source": [
    "# Building Constraint Layers on top of 3D-RetinaNet for ROAD-R"
   ],
   "metadata": {
    "collapsed": false
   },
   "id": "4b8610462757f42f"
  },
  {
   "cell_type": "markdown",
   "source": [
    "First, clone the [repository](https://github.com/mihaela-stoian/StrongCoherencyCCN) containing the code for this task:\n"
   ],
   "metadata": {
    "collapsed": false
   },
   "id": "d2221f328637e7bd"
  },
  {
   "cell_type": "code",
   "outputs": [
    {
     "name": "stderr",
     "output_type": "stream",
     "text": [
      "Already on 'cloverd_examples'\n"
     ]
    },
    {
     "name": "stdout",
     "output_type": "stream",
     "text": [
      "Your branch is up to date with 'origin/cloverd_examples'.\n",
      "Requirement already satisfied: tensorboard in /home/mihian/software/miniconda3/envs/cloverd/lib/python3.11/site-packages (2.12.1)\n",
      "Requirement already satisfied: absl-py>=0.4 in /home/mihian/software/miniconda3/envs/cloverd/lib/python3.11/site-packages (from tensorboard) (1.4.0)\n",
      "Requirement already satisfied: grpcio>=1.48.2 in /home/mihian/software/miniconda3/envs/cloverd/lib/python3.11/site-packages (from tensorboard) (1.48.2)\n",
      "Requirement already satisfied: google-auth<3,>=1.6.3 in /home/mihian/software/miniconda3/envs/cloverd/lib/python3.11/site-packages (from tensorboard) (2.22.0)\n",
      "Requirement already satisfied: google-auth-oauthlib<1.1,>=0.5 in /home/mihian/software/miniconda3/envs/cloverd/lib/python3.11/site-packages (from tensorboard) (0.5.2)\n",
      "Requirement already satisfied: markdown>=2.6.8 in /home/mihian/software/miniconda3/envs/cloverd/lib/python3.11/site-packages (from tensorboard) (3.4.1)\n",
      "Requirement already satisfied: numpy>=1.12.0 in /home/mihian/software/miniconda3/envs/cloverd/lib/python3.11/site-packages (from tensorboard) (1.26.3)\n",
      "Requirement already satisfied: protobuf>=3.19.6 in /home/mihian/software/miniconda3/envs/cloverd/lib/python3.11/site-packages (from tensorboard) (3.20.3)\n",
      "Requirement already satisfied: requests<3,>=2.21.0 in /home/mihian/software/miniconda3/envs/cloverd/lib/python3.11/site-packages (from tensorboard) (2.31.0)\n",
      "Requirement already satisfied: setuptools>=41.0.0 in /home/mihian/software/miniconda3/envs/cloverd/lib/python3.11/site-packages (from tensorboard) (68.2.2)\n",
      "Requirement already satisfied: tensorboard-data-server<0.8.0,>=0.7.0 in /home/mihian/software/miniconda3/envs/cloverd/lib/python3.11/site-packages (from tensorboard) (0.7.0)\n",
      "Requirement already satisfied: tensorboard-plugin-wit>=1.6.0 in /home/mihian/software/miniconda3/envs/cloverd/lib/python3.11/site-packages (from tensorboard) (1.6.0)\n",
      "Requirement already satisfied: werkzeug>=1.0.1 in /home/mihian/software/miniconda3/envs/cloverd/lib/python3.11/site-packages (from tensorboard) (2.2.3)\n",
      "Requirement already satisfied: wheel>=0.26 in /home/mihian/software/miniconda3/envs/cloverd/lib/python3.11/site-packages (from tensorboard) (0.41.2)\n",
      "Requirement already satisfied: cachetools<6.0,>=2.0.0 in /home/mihian/software/miniconda3/envs/cloverd/lib/python3.11/site-packages (from google-auth<3,>=1.6.3->tensorboard) (4.2.2)\n",
      "Requirement already satisfied: pyasn1-modules>=0.2.1 in /home/mihian/software/miniconda3/envs/cloverd/lib/python3.11/site-packages (from google-auth<3,>=1.6.3->tensorboard) (0.2.8)\n",
      "Requirement already satisfied: rsa<5,>=3.1.4 in /home/mihian/software/miniconda3/envs/cloverd/lib/python3.11/site-packages (from google-auth<3,>=1.6.3->tensorboard) (4.7.2)\n",
      "Requirement already satisfied: six>=1.9.0 in /home/mihian/software/miniconda3/envs/cloverd/lib/python3.11/site-packages (from google-auth<3,>=1.6.3->tensorboard) (1.16.0)\n",
      "Requirement already satisfied: urllib3<2.0 in /home/mihian/software/miniconda3/envs/cloverd/lib/python3.11/site-packages (from google-auth<3,>=1.6.3->tensorboard) (1.26.18)\n",
      "Requirement already satisfied: requests-oauthlib>=0.7.0 in /home/mihian/software/miniconda3/envs/cloverd/lib/python3.11/site-packages (from google-auth-oauthlib<1.1,>=0.5->tensorboard) (1.3.0)\n",
      "Requirement already satisfied: charset-normalizer<4,>=2 in /home/mihian/software/miniconda3/envs/cloverd/lib/python3.11/site-packages (from requests<3,>=2.21.0->tensorboard) (2.0.4)\n",
      "Requirement already satisfied: idna<4,>=2.5 in /home/mihian/software/miniconda3/envs/cloverd/lib/python3.11/site-packages (from requests<3,>=2.21.0->tensorboard) (3.6)\n",
      "Requirement already satisfied: certifi>=2017.4.17 in /home/mihian/software/miniconda3/envs/cloverd/lib/python3.11/site-packages (from requests<3,>=2.21.0->tensorboard) (2023.11.17)\n",
      "Requirement already satisfied: MarkupSafe>=2.1.1 in /home/mihian/software/miniconda3/envs/cloverd/lib/python3.11/site-packages (from werkzeug>=1.0.1->tensorboard) (2.1.3)\n",
      "Requirement already satisfied: pyasn1<0.5.0,>=0.4.6 in /home/mihian/software/miniconda3/envs/cloverd/lib/python3.11/site-packages (from pyasn1-modules>=0.2.1->google-auth<3,>=1.6.3->tensorboard) (0.4.8)\n",
      "Requirement already satisfied: oauthlib>=3.0.0 in /home/mihian/software/miniconda3/envs/cloverd/lib/python3.11/site-packages (from requests-oauthlib>=0.7.0->google-auth-oauthlib<1.1,>=0.5->tensorboard) (3.2.2)\n"
     ]
    }
   ],
   "source": [
    "%%bash\n",
    "if [ ! -d \"StrongCoherencyCCN\" ]; \n",
    "    then git clone https://github.com/mihaela-stoian/StrongCoherencyCCN\n",
    "fi\n",
    "\n",
    "cd StrongCoherencyCCN\n",
    "git checkout cloverd_examples\n",
    "pip install tensorboard\n"
   ],
   "metadata": {
    "collapsed": false,
    "ExecuteTime": {
     "end_time": "2024-01-21T12:09:34.033360705Z",
     "start_time": "2024-01-21T12:09:32.731500531Z"
    }
   },
   "id": "4304ed2c591ff2ce",
   "execution_count": 10
  }
 ],
 "metadata": {
  "kernelspec": {
   "display_name": "Python 3",
   "language": "python",
   "name": "python3"
  },
  "language_info": {
   "codemirror_mode": {
    "name": "ipython",
    "version": 2
   },
   "file_extension": ".py",
   "mimetype": "text/x-python",
   "name": "python",
   "nbconvert_exporter": "python",
   "pygments_lexer": "ipython2",
   "version": "2.7.6"
  }
 },
 "nbformat": 4,
 "nbformat_minor": 5
}
