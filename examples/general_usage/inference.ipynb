{
 "cells": [
  {
   "cell_type": "raw",
   "source": [
    "from pishield.shield_layer import build_shield_layer\n",
    "\n",
    "def correct_predictions(predictions, requirements_path):\n",
    "    num_variables = predictions.shape[-1]\n",
    "    shield_layer = build_shield_layer(num_variables, requirements_path)\n",
    "\n",
    "    corrected_predictions = shield_layer(predictions)\n",
    "    return corrected_predictions\n",
    "\n",
    "def main():\n",
    "    ...\n",
    "    DNN.train()\n",
    "    predictions = DNN(input_data)\n",
    "    corrected_predictions = correct_predictions(predictions, requirements_path)\n",
    "    ...\n",
    "\n"
   ],
   "metadata": {
    "collapsed": false
   },
   "id": "a993075fbd75c699"
  },
  {
   "cell_type": "raw",
   "source": [
    "predictions = torch.tensor([-5., -2., -1.]).unsqueeze(0)\n",
    "requirements_path = '../../data/linear_requirements/custom_constraints/equality_constraints2.txt'\n",
    "correct_predictions(predictions, requirements_path)"
   ],
   "metadata": {
    "collapsed": false
   },
   "id": "815f454121e07075"
  },
  {
   "cell_type": "raw",
   "source": [
    "##%% raw\n",
    "\n",
    "from pishield.shield_layer import build_shield_layer\n",
    "\n",
    "class Shielded_DNN(torch.nn.Module):\n",
    "    def __init__(self, num_dim, requirements_path, ...):\n",
    "        self.model = torch.nn.Sequential(...)\n",
    "        self.shield_layer = build_shield_layer(num_dim, requirements_path)\n",
    "        ...\n",
    "        \n",
    "    def forward(self, input):\n",
    "        output = self.model(input)\n",
    "        corrected_output = self.shield_layer(output)\n",
    "        return corrected_output\n",
    "\n",
    "    def train_step(self, input, target):\n",
    "        output = self(input)\n",
    "        loss = self.loss(output, target)\n",
    "        loss.backward()\n",
    "        ...\n",
    "\n"
   ],
   "metadata": {
    "collapsed": false
   },
   "id": "8fadc6793d536f23"
  }
 ],
 "metadata": {
  "kernelspec": {
   "display_name": "Python 3 (ipykernel)",
   "language": "python",
   "name": "python3"
  },
  "language_info": {
   "codemirror_mode": {
    "name": "ipython",
    "version": 3
   },
   "file_extension": ".py",
   "mimetype": "text/x-python",
   "name": "python",
   "nbconvert_exporter": "python",
   "pygments_lexer": "ipython3",
   "version": "3.11.7"
  }
 },
 "nbformat": 4,
 "nbformat_minor": 5
}
