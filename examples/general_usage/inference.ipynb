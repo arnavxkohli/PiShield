{
 "cells": [
  {
   "cell_type": "code",
   "execution_count": 1,
   "id": "initial_id",
   "metadata": {
    "ExecuteTime": {
     "end_time": "2024-02-04T01:09:45.800435805Z",
     "start_time": "2024-02-04T01:09:44.687781316Z"
    }
   },
   "outputs": [],
   "source": [
    "import torch\n",
    "from pishield.constraint_layer import build_pishield_layer\n",
    "\n",
    "def correct_predictions(predictions, constraints_path):\n",
    "    num_variables = predictions.shape[-1]\n",
    "    CL = build_pishield_layer(num_variables, constraints_path)\n",
    "\n",
    "    corrected_predictions = CL(predictions)\n",
    "    return corrected_predictions\n",
    "\n",
    "def main():\n",
    "    ...\n",
    "    DNN.train()\n",
    "    predictions = DNN(input_data)\n",
    "    corrected_predictions = correct_predictions(predictions, constraints_path)\n",
    "    ...\n",
    "\n"
   ]
  },
  {
   "cell_type": "code",
   "execution_count": 2,
   "id": "116349a0a91c12d5",
   "metadata": {
    "collapsed": false,
    "ExecuteTime": {
     "end_time": "2024-02-04T01:09:45.843295530Z",
     "start_time": "2024-02-04T01:09:45.799416067Z"
    }
   },
   "outputs": [
    {
     "name": "stdout",
     "output_type": "stream",
     "text": [
      "Using auto mode ::: Detected linear constraints!\n",
      "All constraints\n",
      " - y_0 - y_1 >= -3.0\n",
      " + y_0 + y_1 >= 3.0\n",
      " + y_0 - y_1 >= 0.0\n",
      " + y_0 - y_2 >= 0.0\n",
      " + y_1 >= 1.0\n",
      " + y_0 >= 1.8\n",
      " + y_2 >= 2.0\n"
     ]
    },
    {
     "data": {
      "text/plain": "tensor([[2., 1., 2.]])"
     },
     "execution_count": 2,
     "metadata": {},
     "output_type": "execute_result"
    }
   ],
   "source": [
    "predictions = torch.tensor([-5., -2., -1.]).unsqueeze(0)\n",
    "constraints_path = '../../data/linear_constraints/custom_constraints/equality_constraints2.txt'\n",
    "correct_predictions(predictions, constraints_path)"
   ]
  },
  {
   "cell_type": "code",
   "execution_count": 3,
   "id": "a6ba65df-ef13-46d7-8edc-361c8c3d0e1b",
   "metadata": {
    "ExecuteTime": {
     "end_time": "2024-02-04T01:09:45.883837680Z",
     "start_time": "2024-02-04T01:09:45.837757989Z"
    }
   },
   "outputs": [
    {
     "ename": "SyntaxError",
     "evalue": "invalid syntax (1819528557.py, line 7)",
     "output_type": "error",
     "traceback": [
      "\u001B[0;36m  Cell \u001B[0;32mIn[3], line 7\u001B[0;36m\u001B[0m\n\u001B[0;31m    def __init__(self, num_dim, constraints_path, ...):\u001B[0m\n\u001B[0m                                                  ^\u001B[0m\n\u001B[0;31mSyntaxError\u001B[0m\u001B[0;31m:\u001B[0m invalid syntax\n"
     ]
    }
   ],
   "source": [
    "##%% raw\n",
    "\n",
    "import torch\n",
    "from pishield.constraint_layer import build_pishield_layer\n",
    "\n",
    "class Constrained_DNN(torch.nn.Module):\n",
    "    def __init__(self, num_dim, constraints_path, ...):\n",
    "        self.model = torch.nn.Sequential(...)\n",
    "        self.CL = build_pishield_layer(num_dim, constraints_path)\n",
    "        ...\n",
    "        \n",
    "    def forward(self, input):\n",
    "        output = self.model(input)\n",
    "        corrected_output = self.CL(output)\n",
    "        return corrected_output\n",
    "\n",
    "    def train_step(self, input, target):\n",
    "        output = self(input)\n",
    "        loss = self.loss(output, target)\n",
    "        loss.backward()\n",
    "        ...\n",
    "\n"
   ]
  }
 ],
 "metadata": {
  "kernelspec": {
   "display_name": "Python 3 (ipykernel)",
   "language": "python",
   "name": "python3"
  },
  "language_info": {
   "codemirror_mode": {
    "name": "ipython",
    "version": 3
   },
   "file_extension": ".py",
   "mimetype": "text/x-python",
   "name": "python",
   "nbconvert_exporter": "python",
   "pygments_lexer": "ipython3",
   "version": "3.11.7"
  }
 },
 "nbformat": 4,
 "nbformat_minor": 5
}
