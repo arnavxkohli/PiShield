{
 "cells": [
  {
   "cell_type": "code",
   "execution_count": 7,
   "id": "initial_id",
   "metadata": {
    "collapsed": true,
    "ExecuteTime": {
     "end_time": "2024-01-22T17:15:03.231400105Z",
     "start_time": "2024-01-22T17:15:03.223909927Z"
    }
   },
   "outputs": [],
   "source": [
    "import torch\n",
    "from cloverd.constraint_layer import build_constraint_layer\n",
    "\n",
    "def correct_predictions(predictions: torch.Tensor, constraints_path: str):\n",
    "    num_variables = predictions.shape[-1]\n",
    "    \n",
    "    # build a constraint layer CL using CLOVERD\n",
    "    CL = build_constraint_layer(num_variables, constraints_path)\n",
    "    \n",
    "    # apply CLOVERD to get corrected predictions, which satisfy the constraints\n",
    "    corrected_predictions = CL(predictions)\n",
    "    return corrected_predictions"
   ]
  },
  {
   "cell_type": "code",
   "outputs": [
    {
     "name": "stdout",
     "output_type": "stream",
     "text": [
      "Using auto mode ::: Detected linear constraints!\n",
      "All constraints\n",
      " - y_0 - y_1 >= -3.0\n",
      " + y_0 + y_1 >= 3.0\n",
      " + y_0 - y_1 >= 0.0\n",
      " + y_0 - y_2 >= 0.0\n",
      " + y_1 >= 1.0\n",
      " + y_0 >= 1.8\n",
      " + y_2 >= 2.0\n"
     ]
    },
    {
     "data": {
      "text/plain": "tensor([[2., 1., 2.]])"
     },
     "execution_count": 6,
     "metadata": {},
     "output_type": "execute_result"
    }
   ],
   "source": [
    "predictions = torch.tensor([-5., -2., -1.]).unsqueeze(0)\n",
    "constraints_path = '../../data/linear_constraints/custom_constraints/equality_constraints2.txt'\n",
    "correct_predictions(predictions, constraints_path)"
   ],
   "metadata": {
    "collapsed": false,
    "ExecuteTime": {
     "end_time": "2024-01-22T17:13:50.373465959Z",
     "start_time": "2024-01-22T17:13:50.366706115Z"
    }
   },
   "id": "116349a0a91c12d5",
   "execution_count": 6
  }
 ],
 "metadata": {
  "kernelspec": {
   "display_name": "Python 3",
   "language": "python",
   "name": "python3"
  },
  "language_info": {
   "codemirror_mode": {
    "name": "ipython",
    "version": 2
   },
   "file_extension": ".py",
   "mimetype": "text/x-python",
   "name": "python",
   "nbconvert_exporter": "python",
   "pygments_lexer": "ipython2",
   "version": "2.7.6"
  }
 },
 "nbformat": 4,
 "nbformat_minor": 5
}
