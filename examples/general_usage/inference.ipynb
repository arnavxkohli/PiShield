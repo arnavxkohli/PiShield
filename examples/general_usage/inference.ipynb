{
 "cells": [
  {
   "cell_type": "markdown",
   "source": [
    "This is only an illustrative example of how to use PiShield at inference time to correct neural network predictions according to some constraints."
   ],
   "metadata": {
    "collapsed": false
   },
   "id": "e6f2c8bd4e61198d"
  },
  {
   "cell_type": "code",
   "outputs": [],
   "source": [
    "import torch\n",
    "from pishield.shield_layer import build_shield_layer\n",
    "\n",
    "def correct_predictions(predictions, requirements_path):\n",
    "    num_variables = predictions.shape[-1]\n",
    "    shield_layer = build_shield_layer(num_variables, requirements_path)\n",
    "\n",
    "    corrected_predictions = shield_layer(predictions)\n",
    "    return corrected_predictions\n",
    "\n",
    "def main():\n",
    "    ...\n",
    "    DNN.train()\n",
    "    predictions = DNN(input_data)\n",
    "    corrected_predictions = correct_predictions(predictions, requirements_path)\n",
    "    ...\n",
    "\n"
   ],
   "metadata": {
    "collapsed": false,
    "ExecuteTime": {
     "end_time": "2024-02-09T16:01:38.777810361Z",
     "start_time": "2024-02-09T16:01:38.729252291Z"
    }
   },
   "id": "37d45cc1942a6754",
   "execution_count": 7
  },
  {
   "cell_type": "code",
   "outputs": [
    {
     "name": "stdout",
     "output_type": "stream",
     "text": [
      "Using auto mode ::: Detected linear requirements!\n",
      "All constraints\n",
      " - y_0 - y_1 >= -3.0\n",
      " + y_0 + y_1 >= 3.0\n",
      " + y_0 - y_1 >= 0.0\n",
      " + y_0 - y_2 >= 0.0\n",
      " + y_1 >= 1.0\n",
      " + y_0 >= 1.8\n",
      " + y_2 >= 2.0\n"
     ]
    },
    {
     "data": {
      "text/plain": "tensor([[2., 1., 2.]])"
     },
     "execution_count": 8,
     "metadata": {},
     "output_type": "execute_result"
    }
   ],
   "source": [
    "predictions = torch.tensor([-5., -2., -1.]).unsqueeze(0)\n",
    "requirements_path = '../../data/linear_requirements/custom_constraints/equality_constraints2.txt'\n",
    "correct_predictions(predictions, requirements_path)"
   ],
   "metadata": {
    "collapsed": false,
    "ExecuteTime": {
     "end_time": "2024-02-09T16:01:38.778351700Z",
     "start_time": "2024-02-09T16:01:38.773597566Z"
    }
   },
   "id": "4a33320219b89749",
   "execution_count": 8
  }
 ],
 "metadata": {
  "kernelspec": {
   "display_name": "Python 3 (ipykernel)",
   "language": "python",
   "name": "python3"
  },
  "language_info": {
   "codemirror_mode": {
    "name": "ipython",
    "version": 3
   },
   "file_extension": ".py",
   "mimetype": "text/x-python",
   "name": "python",
   "nbconvert_exporter": "python",
   "pygments_lexer": "ipython3",
   "version": "3.11.7"
  }
 },
 "nbformat": 4,
 "nbformat_minor": 5
}
