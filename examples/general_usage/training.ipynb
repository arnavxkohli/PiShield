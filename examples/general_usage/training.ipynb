{
 "cells": [
  {
   "cell_type": "raw",
   "source": [
    "from cloverd.constraint_layer import build_constraint_layer\n",
    "import torch\n",
    "\n",
    "PATH_CONSTRAINTS = ..\n",
    "class DNN(torch.nn.Module):\n",
    "    def __init__(self, num_dim, data_transformer,\n",
    "        constraints_filepath):\n",
    "        self.model = torch.nn.Sequential(..)\n",
    "        self.CL = build_constraint_layer(num_dim, constraints_filepath)\n",
    "        ..\n",
    "        \n",
    "    def forward(self, input):\n",
    "        output = self.model(input)\n",
    "        corrected_output = self.CL(output)\n",
    "        return corrected_output\n",
    "\n",
    "    def train_step(self, input, target):\n",
    "        output = self(input)\n",
    "        loss = self.loss(output, target)\n",
    "        loss.backward()\n",
    "        .."
   ],
   "metadata": {
    "collapsed": false
   },
   "id": "90293830c9a14e2"
  }
 ],
 "metadata": {
  "kernelspec": {
   "display_name": "Python 3",
   "language": "python",
   "name": "python3"
  },
  "language_info": {
   "codemirror_mode": {
    "name": "ipython",
    "version": 2
   },
   "file_extension": ".py",
   "mimetype": "text/x-python",
   "name": "python",
   "nbconvert_exporter": "python",
   "pygments_lexer": "ipython2",
   "version": "2.7.6"
  }
 },
 "nbformat": 4,
 "nbformat_minor": 5
}
