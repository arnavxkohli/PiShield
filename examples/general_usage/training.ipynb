{
 "cells": [
  {
   "cell_type": "raw",
   "source": [
    "from pishield.shield_layer import build_shield_layer\n",
    "\n",
    "\n",
    "class Shielded_DNN(torch.nn.Module):\n",
    "    def __init__(self, num_dim, requirements_path, ...):\n",
    "        self.model = torch.nn.Sequential(...)\n",
    "        self.shield_layer = build_shield_layer(num_dim, requirements_path)\n",
    "        ...\n",
    "\n",
    "    def forward(self, input):\n",
    "        output = self.model(input)\n",
    "        corrected_output = self.shield_layer(output)\n",
    "        return corrected_output\n",
    "\n",
    "    def train_step(self, input, target):\n",
    "        output = self(input)\n",
    "        loss = self.loss(output, target)\n",
    "        loss.backward()\n",
    "        ..."
   ],
   "metadata": {
    "collapsed": false
   },
   "id": "a5d60f8b83d631b2"
  }
 ],
 "metadata": {
  "kernelspec": {
   "display_name": "Python 3",
   "language": "python",
   "name": "python3"
  },
  "language_info": {
   "codemirror_mode": {
    "name": "ipython",
    "version": 2
   },
   "file_extension": ".py",
   "mimetype": "text/x-python",
   "name": "python",
   "nbconvert_exporter": "python",
   "pygments_lexer": "ipython2",
   "version": "2.7.6"
  }
 },
 "nbformat": 4,
 "nbformat_minor": 5
}
