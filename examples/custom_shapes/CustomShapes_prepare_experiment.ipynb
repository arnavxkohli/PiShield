{
 "cells": [
  {
   "cell_type": "markdown",
   "source": [
    "# Learning shapes"
   ],
   "metadata": {
    "collapsed": false
   },
   "id": "4b8610462757f42f"
  },
  {
   "cell_type": "markdown",
   "source": [
    "First, clone the [repository](https://github.com/mihaela-stoian/StrongCoherencyCCN) containing the code for this task:\n"
   ],
   "metadata": {
    "collapsed": false
   },
   "id": "d2221f328637e7bd"
  },
  {
   "cell_type": "code",
   "outputs": [],
   "source": [
    "%%bash\n",
    "if [ ! -d \"StrongCoherencyCCN\" ]; \n",
    "    then git clone https://github.com/mihaela-stoian/StrongCoherencyCCN\n",
    "fi\n",
    "\n",
    "cd StrongCoherencyCCN\n",
    "git checkout pishield_CL_example\n",
    "pip install tensorboard\n"
   ],
   "metadata": {
    "collapsed": false
   },
   "id": "4304ed2c591ff2ce",
   "execution_count": null
  },
  {
   "cell_type": "markdown",
   "source": [
    "Then, follow the instructions provided in the README of the [repository](https://github.com/mihaela-stoian/StrongCoherencyCCN).\n",
    "\n",
    "The relevant notebook to run the example can be found at `./StrongCoherencyCCN/experiments/Rectangles_example.ipynb`."
   ],
   "metadata": {
    "collapsed": false
   },
   "id": "5967bc31fb803a91"
  }
 ],
 "metadata": {
  "kernelspec": {
   "display_name": "Python 3",
   "language": "python",
   "name": "python3"
  },
  "language_info": {
   "codemirror_mode": {
    "name": "ipython",
    "version": 2
   },
   "file_extension": ".py",
   "mimetype": "text/x-python",
   "name": "python",
   "nbconvert_exporter": "python",
   "pygments_lexer": "ipython2",
   "version": "2.7.6"
  }
 },
 "nbformat": 4,
 "nbformat_minor": 5
}
