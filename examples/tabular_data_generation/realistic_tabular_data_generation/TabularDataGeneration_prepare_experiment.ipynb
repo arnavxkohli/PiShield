{
 "cells": [
  {
   "cell_type": "markdown",
   "source": [
    "# PiShield for Tabular Data Generation\n",
    "\n",
    "## Building Shield Layers on top of TableGAN"
   ],
   "metadata": {
    "collapsed": false
   },
   "id": "9e265eef5a01f8b0"
  },
  {
   "cell_type": "markdown",
   "source": [
    "First, clone the [repository](https://github.com/mihaela-stoian/PiShield_ConstrainedDGM) containing the code for this task:"
   ],
   "metadata": {
    "collapsed": false
   },
   "id": "e22595232a2e10b2"
  },
  {
   "cell_type": "code",
   "outputs": [
    {
     "name": "stderr",
     "output_type": "stream",
     "text": [
      "Already on 'main'\n"
     ]
    },
    {
     "name": "stdout",
     "output_type": "stream",
     "text": [
      "Your branch is up to date with 'origin/main'.\n"
     ]
    }
   ],
   "source": [
    "%%bash\n",
    "if [ ! -d \"PiShield_ConstrainedDGM\" ]; \n",
    "    then git clone https://github.com/mihaela-stoian/PiShield_ConstrainedDGM\n",
    "fi\n",
    "\n",
    "cd PiShield_ConstrainedDGM\n",
    "git checkout main"
   ],
   "metadata": {
    "collapsed": false,
    "ExecuteTime": {
     "end_time": "2024-02-12T18:29:48.937906802Z",
     "start_time": "2024-02-12T18:29:48.917247699Z"
    }
   },
   "id": "a101a73bd0b7bcca",
   "execution_count": 1
  },
  {
   "cell_type": "markdown",
   "source": [
    "Then, follow the instructions provided in the README of the [repository](https://github.com/mihaela-stoian/PiShield_ConstrainedDGM), which also contains an example of how to run the code (and what hyperparameters to use)."
   ],
   "metadata": {
    "collapsed": false
   },
   "id": "f602248523ce72ff"
  }
 ],
 "metadata": {
  "kernelspec": {
   "display_name": "Python 3",
   "language": "python",
   "name": "python3"
  },
  "language_info": {
   "codemirror_mode": {
    "name": "ipython",
    "version": 2
   },
   "file_extension": ".py",
   "mimetype": "text/x-python",
   "name": "python",
   "nbconvert_exporter": "python",
   "pygments_lexer": "ipython2",
   "version": "2.7.6"
  }
 },
 "nbformat": 4,
 "nbformat_minor": 5
}
