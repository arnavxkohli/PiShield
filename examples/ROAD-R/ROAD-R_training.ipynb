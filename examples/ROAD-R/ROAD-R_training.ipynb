{
 "cells": [
  {
   "cell_type": "markdown",
   "source": [
    "# Building Constraint Layers on top of 3D-RetinaNet for ROAD-R"
   ],
   "metadata": {
    "collapsed": false
   },
   "id": "75a797084c6491e6"
  },
  {
   "cell_type": "markdown",
   "source": [
    "First, clone the [repository](https://github.com/mihaela-stoian/StrongCoherency_CL_ROAD-R) containing the code for this task:"
   ],
   "metadata": {
    "collapsed": false
   },
   "id": "5650b0e8782761f4"
  },
  {
   "cell_type": "code",
   "outputs": [
    {
     "name": "stdout",
     "output_type": "stream",
     "text": [
      "Cloning into 'StrongCoherency_CL_ROAD-R'...\r\n",
      "remote: Enumerating objects: 3930, done.\u001B[K\r\n",
      "remote: Counting objects: 100% (104/104), done.\u001B[K\r\n",
      "remote: Compressing objects: 100% (31/31), done.\u001B[K\r\n",
      "remote: Total 3930 (delta 82), reused 85 (delta 71), pack-reused 3826\u001B[K\r\n",
      "Receiving objects: 100% (3930/3930), 2.28 MiB | 10.58 MiB/s, done.\r\n",
      "Resolving deltas: 100% (1995/1995), done.\r\n"
     ]
    }
   ],
   "source": [
    "! git clone https://github.com/mihaela-stoian/StrongCoherency_CL_ROAD-R"
   ],
   "metadata": {
    "collapsed": false,
    "ExecuteTime": {
     "end_time": "2024-01-21T00:46:53.752399457Z",
     "start_time": "2024-01-21T00:46:52.791512618Z"
    }
   },
   "id": "18929c485c69067a",
   "execution_count": 1
  },
  {
   "cell_type": "markdown",
   "source": [
    "Then, follow the instructions provided in the README of the [repository](https://github.com/mihaela-stoian/StrongCoherency_CL_ROAD-R)."
   ],
   "metadata": {
    "collapsed": false
   },
   "id": "6e0c232df2d92de7"
  }
 ],
 "metadata": {
  "kernelspec": {
   "display_name": "Python 3",
   "language": "python",
   "name": "python3"
  },
  "language_info": {
   "codemirror_mode": {
    "name": "ipython",
    "version": 2
   },
   "file_extension": ".py",
   "mimetype": "text/x-python",
   "name": "python",
   "nbconvert_exporter": "python",
   "pygments_lexer": "ipython2",
   "version": "2.7.6"
  }
 },
 "nbformat": 4,
 "nbformat_minor": 5
}
